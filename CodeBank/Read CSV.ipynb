{
 "cells": [
  {
   "cell_type": "markdown",
   "metadata": {
    "application/vnd.databricks.v1+cell": {
     "cellMetadata": {},
     "inputWidgets": {},
     "nuid": "a14b93ae-921c-4f2a-8845-e2690099d2f9",
     "showTitle": false,
     "title": ""
    }
   },
   "source": [
    "## Main Code"
   ]
  },
  {
   "cell_type": "code",
   "execution_count": 0,
   "metadata": {
    "application/vnd.databricks.v1+cell": {
     "cellMetadata": {
      "byteLimit": 2048000,
      "rowLimit": 10000
     },
     "inputWidgets": {},
     "nuid": "149b8684-db9d-4462-8830-da86c5bee3ce",
     "showTitle": false,
     "title": ""
    }
   },
   "outputs": [
    {
     "output_type": "display_data",
     "data": {
      "text/html": [
       "<style scoped>\n",
       "  .table-result-container {\n",
       "    max-height: 300px;\n",
       "    overflow: auto;\n",
       "  }\n",
       "  table, th, td {\n",
       "    border: 1px solid black;\n",
       "    border-collapse: collapse;\n",
       "  }\n",
       "  th, td {\n",
       "    padding: 5px;\n",
       "  }\n",
       "  th {\n",
       "    text-align: left;\n",
       "  }\n",
       "</style><div class='table-result-container'><table class='table-result'><thead style='background-color: white'><tr><th>Year</th><th>Make and Model</th><th>Type</th><th>Price (AUD)</th><th>Price (USD)</th><th>Location</th><th>Serial Number</th><th>Registration Number</th><th>Total Time</th><th>Total Landings</th><th>Exterior</th><th>Interior</th><th>Engine 1 Time</th><th>Engine 2 Time</th></tr></thead><tbody><tr><td>1980.0</td><td>PIPER NAVAJO CHIEFTAIN</td><td>Piston Twin Aircraft</td><td>374549.0</td><td>250000.0</td><td>Mississauga, Ontario, Canada</td><td>318052202</td><td>C-GOBJ</td><td>11020.0</td><td>null</td><td>White with Green and Blue Stripes</td><td>8 Seats</td><td>null</td><td>null</td></tr><tr><td>1979.0</td><td>PIPER NAVAJO CHIEFTAIN</td><td>Piston Twin Aircraft</td><td>426986.0</td><td>285000.0</td><td>Stuart, Florida, USA</td><td>31-7952216</td><td>N130BV</td><td>11207.0</td><td>null</td><td>Overall White with Red and Black Stripes</td><td>Overall White with Red and Black Stripes</td><td>248 Since Left Engine Major Overhaul by Lycoming 6/2019</td><td>null</td></tr><tr><td>1979.0</td><td>PIPER NAVAJO CHIEFTAIN</td><td>Piston Twin Aircraft</td><td>373051.0</td><td>249000.0</td><td>Brookville, Ohio, USA</td><td>31-7952106</td><td>N3516A</td><td>26529.0</td><td>null</td><td>Overall White with Blue and Yellow Stripes</td><td>Overall White with Blue and Yellow Stripes</td><td>248 Since Left Engine Major Overhaul by Lycoming 6/2019</td><td>null</td></tr><tr><td>1980.0</td><td>COMMANDER 840</td><td>Turboprop Aircraft</td><td>891426.0</td><td>595000.0</td><td>Naples, Florida, USA</td><td>11605</td><td>N125MM</td><td>7524.0</td><td>null</td><td>Marathon White w/Praire Beige, Flag Blue, Maroon, and Dark Neutral Stripes by Sabreliner Corporation</td><td>8 Passenger Forward Galley by Sabreliner Corporation</td><td>null</td><td>null</td></tr><tr><td>1960.0</td><td>DEHAVILLAND DHC-2</td><td>Piston Single Aircraft</td><td>599278.0</td><td>400000.0</td><td>Anchorage, Alaska, USA</td><td>1441</td><td>N103TE</td><td>12209.0</td><td>null</td><td>Painted in period paint scheme as Pan American 6/10</td><td>null</td><td>null</td><td>null</td></tr><tr><td>1943.0</td><td>DOUGLAS DC-3C</td><td>Piston Twin Aircraft</td><td>891426.0</td><td>595000.0</td><td>Spokane, Washington, USA</td><td>20806</td><td>N877MG</td><td>22653.0</td><td>451.0</td><td>Matterhorn White with Evergreen Stripes on the sides</td><td>Painted in period paint scheme as Pan American 6/10</td><td>null</td><td>null</td></tr><tr><td>1976.0</td><td>PIPER NAVAJO C</td><td>Piston Twin Aircraft</td><td>388032.0</td><td>259000.0</td><td>Stuart, Florida, USA</td><td>31-7612021</td><td>N31FF</td><td>6465.0</td><td>null</td><td>Overall White with Red and Black Stripes</td><td>Overall White with Red and Black Stripes</td><td>1590 SFOH Approx 800 since IRAN All new Engines Mounts New Oil Coolers L&R New oil vernatherm L&R</td><td>null</td></tr><tr><td>1980.0</td><td>SABRE 65</td><td>Jet Aircraft</td><td>674188.0</td><td>450000.0</td><td>West Palm Beach, Florida, USA</td><td>null</td><td>null</td><td>10738.0</td><td>8199.0</td><td>Overall White with Blue and Red Stripes</td><td>Overall White with Blue and Red Stripes</td><td>null</td><td>1,319</td></tr><tr><td>1979.0</td><td>WESTWIND 1124</td><td>Jet Aircraft</td><td>486913.0</td><td>325000.0</td><td>null</td><td>250</td><td>N418WA</td><td>8335.0</td><td>5600.0</td><td>White with Blue and Silver Stripes</td><td>White with Blue and Silver Stripes</td><td>null</td><td>null</td></tr><tr><td>1977.0</td><td>PIPER NAVAJO CHIEFTAIN</td><td>Piston Twin Aircraft</td><td>597780.0</td><td>399000.0</td><td>Scottsdale, Arizona, USA</td><td>31-7752070</td><td>N834NQ</td><td>8344.0</td><td>null</td><td>Overall White with Blue and Yellow Stripes</td><td>Overall White with Blue and Yellow Stripes</td><td>1133 SNEW New in June 2010</td><td>null</td></tr><tr><td>1977.0</td><td>PIPER NAVAJO CHIEFTAIN</td><td>Piston Twin Aircraft</td><td>374549.0</td><td>250000.0</td><td>Clearwater, Florida, USA</td><td>31-7752164</td><td>N27405</td><td>7607.0</td><td>null</td><td>Overall White with Blue and Yellow Stripes</td><td>Overall White with Blue and Yellow Stripes</td><td>7 Hours On A Lycoming Factory Rebuilt Engine On The Right Side And 358 Hours Since Major Overhaul (SMOH) By Central Cylinder Service</td><td>null</td></tr><tr><td>1981.0</td><td>CESSNA CITATION II</td><td>Jet Aircraft</td><td>897419.0</td><td>599000.0</td><td>Myrtle Beach, South Carolina, USA</td><td>550-0334</td><td>N44FR</td><td>9000.0</td><td>6444.0</td><td>Paint needs some attention</td><td>Tan Interior Interior Arrangement: • Seating: 7-Place + 1 • Arrangement: VIP Floor plan; four seats in aft cabin</td><td>2,584 SNEW</td><td>2,601 SNEW</td></tr><tr><td>1979.0</td><td>CESSNA CITATION II</td><td>Jet Aircraft</td><td>824007.0</td><td>550000.0</td><td>El Paso, Texas, USA</td><td>5500078</td><td>N432NM</td><td>14042.0</td><td>null</td><td>Overall Matterhorn White with Red, Champagne, and Black Stripes</td><td>Executive 8 passenger double club seats in orange leather, leather crew seats w/sheepskin inserts</td><td>3,186 SMOH</td><td>null</td></tr><tr><td>1975.0</td><td>LEARJET 25B</td><td>Jet Aircraft</td><td>591787.0</td><td>395000.0</td><td>Fort Pierce, Florida, USA</td><td>201</td><td>N251TS</td><td>6731.0</td><td>4999.0</td><td>White with Burgundy and Gray stripes</td><td>null</td><td>null</td><td>null</td></tr><tr><td>1981.0</td><td>PIPER NAVAJO CHIEFTAIN</td><td>Piston Twin Aircraft</td><td>447960.0</td><td>299000.0</td><td>Brookville, Ohio, USA</td><td>31-8152097</td><td>N333HF</td><td>10905.0</td><td>null</td><td>Overall White with Orange and Black Stripes</td><td>The paint is White with Burgundy and Gray stripes. The interior is tan leather.</td><td>671 SMOH Left Engine by Aero Recip Canada on 9-2020</td><td>null</td></tr><tr><td>1981.0</td><td>CESSNA CITATION ISP</td><td>Jet Aircraft</td><td>891426.0</td><td>595000.0</td><td>Mountain Home, Arkansas, USA</td><td>501-0219</td><td>N56PB</td><td>8365.0</td><td>6520.0</td><td>Matterhorn white w/black & blue stripes New in 2000 - Good condition</td><td>8 Passenger tan leather interior AFT 3-place divan FWD 2-place sofa w/ lav Beiger Berber carpet</td><td>null</td><td>null</td></tr><tr><td>1964.0</td><td>COMMANDER 680FL</td><td>Piston Twin Aircraft</td><td>208249.0</td><td>139000.0</td><td>Columbus, Ohio, USA</td><td>1406-59</td><td>N199WM</td><td>3127.0</td><td>null</td><td>Allover White with Red and Grey Trim</td><td>null</td><td>null</td><td>null</td></tr><tr><td>2006.0</td><td>GIPPSAERO GA8 AIRVAN</td><td>Piston Single Aircraft</td><td>756588.0</td><td>505000.0</td><td>Taylor, Texas, USA</td><td>null</td><td>null</td><td>4650.2</td><td>null</td><td>8/10</td><td>null</td><td>null</td><td>null</td></tr><tr><td>1978.0</td><td>LEARJET 35A</td><td>Jet Aircraft</td><td>861462.0</td><td>575000.0</td><td>San Diego, California, USA</td><td>224</td><td>N269JR</td><td>15877.0</td><td>11384.0</td><td>White with Medium and Gold striping</td><td>null</td><td>511</td><td>null</td></tr><tr><td>1981.0</td><td>samiro</td><td>samiroooo</td><td>131231.0</td><td>1231231.0</td><td>null</td><td>null</td><td>null</td><td>null</td><td>null</td><td>null</td><td>null</td><td>null</td><td>null</td></tr></tbody></table></div>"
      ]
     },
     "metadata": {
      "application/vnd.databricks.v1+output": {
       "addedWidgets": {},
       "aggData": [],
       "aggError": "",
       "aggOverflow": false,
       "aggSchema": [],
       "aggSeriesLimitReached": false,
       "aggType": "",
       "arguments": {},
       "columnCustomDisplayInfos": {},
       "data": [
        [
         1980.0,
         "PIPER NAVAJO CHIEFTAIN",
         "Piston Twin Aircraft",
         374549.0,
         250000.0,
         "Mississauga, Ontario, Canada",
         "318052202",
         "C-GOBJ",
         11020.0,
         null,
         "White with Green and Blue Stripes",
         "8 Seats",
         null,
         null
        ],
        [
         1979.0,
         "PIPER NAVAJO CHIEFTAIN",
         "Piston Twin Aircraft",
         426986.0,
         285000.0,
         "Stuart, Florida, USA",
         "31-7952216",
         "N130BV",
         11207.0,
         null,
         "Overall White with Red and Black Stripes",
         "Overall White with Red and Black Stripes",
         "248 Since Left Engine Major Overhaul by Lycoming 6/2019",
         null
        ],
        [
         1979.0,
         "PIPER NAVAJO CHIEFTAIN",
         "Piston Twin Aircraft",
         373051.0,
         249000.0,
         "Brookville, Ohio, USA",
         "31-7952106",
         "N3516A",
         26529.0,
         null,
         "Overall White with Blue and Yellow Stripes",
         "Overall White with Blue and Yellow Stripes",
         "248 Since Left Engine Major Overhaul by Lycoming 6/2019",
         null
        ],
        [
         1980.0,
         "COMMANDER 840",
         "Turboprop Aircraft",
         891426.0,
         595000.0,
         "Naples, Florida, USA",
         "11605",
         "N125MM",
         7524.0,
         null,
         "Marathon White w/Praire Beige, Flag Blue, Maroon, and Dark Neutral Stripes by Sabreliner Corporation",
         "8 Passenger Forward Galley by Sabreliner Corporation",
         null,
         null
        ],
        [
         1960.0,
         "DEHAVILLAND DHC-2",
         "Piston Single Aircraft",
         599278.0,
         400000.0,
         "Anchorage, Alaska, USA",
         "1441",
         "N103TE",
         12209.0,
         null,
         "Painted in period paint scheme as Pan American 6/10",
         null,
         null,
         null
        ],
        [
         1943.0,
         "DOUGLAS DC-3C",
         "Piston Twin Aircraft",
         891426.0,
         595000.0,
         "Spokane, Washington, USA",
         "20806",
         "N877MG",
         22653.0,
         451.0,
         "Matterhorn White with Evergreen Stripes on the sides",
         "Painted in period paint scheme as Pan American 6/10",
         null,
         null
        ],
        [
         1976.0,
         "PIPER NAVAJO C",
         "Piston Twin Aircraft",
         388032.0,
         259000.0,
         "Stuart, Florida, USA",
         "31-7612021",
         "N31FF",
         6465.0,
         null,
         "Overall White with Red and Black Stripes",
         "Overall White with Red and Black Stripes",
         "1590 SFOH Approx 800 since IRAN All new Engines Mounts New Oil Coolers L&R New oil vernatherm L&R",
         null
        ],
        [
         1980.0,
         "SABRE 65",
         "Jet Aircraft",
         674188.0,
         450000.0,
         "West Palm Beach, Florida, USA",
         null,
         null,
         10738.0,
         8199.0,
         "Overall White with Blue and Red Stripes",
         "Overall White with Blue and Red Stripes",
         null,
         "1,319"
        ],
        [
         1979.0,
         "WESTWIND 1124",
         "Jet Aircraft",
         486913.0,
         325000.0,
         null,
         "250",
         "N418WA",
         8335.0,
         5600.0,
         "White with Blue and Silver Stripes",
         "White with Blue and Silver Stripes",
         null,
         null
        ],
        [
         1977.0,
         "PIPER NAVAJO CHIEFTAIN",
         "Piston Twin Aircraft",
         597780.0,
         399000.0,
         "Scottsdale, Arizona, USA",
         "31-7752070",
         "N834NQ",
         8344.0,
         null,
         "Overall White with Blue and Yellow Stripes",
         "Overall White with Blue and Yellow Stripes",
         "1133 SNEW New in June 2010",
         null
        ],
        [
         1977.0,
         "PIPER NAVAJO CHIEFTAIN",
         "Piston Twin Aircraft",
         374549.0,
         250000.0,
         "Clearwater, Florida, USA",
         "31-7752164",
         "N27405",
         7607.0,
         null,
         "Overall White with Blue and Yellow Stripes",
         "Overall White with Blue and Yellow Stripes",
         "7 Hours On A Lycoming Factory Rebuilt Engine On The Right Side And 358 Hours Since Major Overhaul (SMOH) By Central Cylinder Service",
         null
        ],
        [
         1981.0,
         "CESSNA CITATION II",
         "Jet Aircraft",
         897419.0,
         599000.0,
         "Myrtle Beach, South Carolina, USA",
         "550-0334",
         "N44FR",
         9000.0,
         6444.0,
         "Paint needs some attention",
         "Tan Interior Interior Arrangement: • Seating: 7-Place + 1 • Arrangement: VIP Floor plan; four seats in aft cabin",
         "2,584 SNEW",
         "2,601 SNEW"
        ],
        [
         1979.0,
         "CESSNA CITATION II",
         "Jet Aircraft",
         824007.0,
         550000.0,
         "El Paso, Texas, USA",
         "5500078",
         "N432NM",
         14042.0,
         null,
         "Overall Matterhorn White with Red, Champagne, and Black Stripes",
         "Executive 8 passenger double club seats in orange leather, leather crew seats w/sheepskin inserts",
         "3,186 SMOH",
         null
        ],
        [
         1975.0,
         "LEARJET 25B",
         "Jet Aircraft",
         591787.0,
         395000.0,
         "Fort Pierce, Florida, USA",
         "201",
         "N251TS",
         6731.0,
         4999.0,
         "White with Burgundy and Gray stripes",
         null,
         null,
         null
        ],
        [
         1981.0,
         "PIPER NAVAJO CHIEFTAIN",
         "Piston Twin Aircraft",
         447960.0,
         299000.0,
         "Brookville, Ohio, USA",
         "31-8152097",
         "N333HF",
         10905.0,
         null,
         "Overall White with Orange and Black Stripes",
         "The paint is White with Burgundy and Gray stripes. The interior is tan leather.",
         "671 SMOH Left Engine by Aero Recip Canada on 9-2020",
         null
        ],
        [
         1981.0,
         "CESSNA CITATION ISP",
         "Jet Aircraft",
         891426.0,
         595000.0,
         "Mountain Home, Arkansas, USA",
         "501-0219",
         "N56PB",
         8365.0,
         6520.0,
         "Matterhorn white w/black & blue stripes New in 2000 - Good condition",
         "8 Passenger tan leather interior AFT 3-place divan FWD 2-place sofa w/ lav Beiger Berber carpet",
         null,
         null
        ],
        [
         1964.0,
         "COMMANDER 680FL",
         "Piston Twin Aircraft",
         208249.0,
         139000.0,
         "Columbus, Ohio, USA",
         "1406-59",
         "N199WM",
         3127.0,
         null,
         "Allover White with Red and Grey Trim",
         null,
         null,
         null
        ],
        [
         2006.0,
         "GIPPSAERO GA8 AIRVAN",
         "Piston Single Aircraft",
         756588.0,
         505000.0,
         "Taylor, Texas, USA",
         null,
         null,
         4650.2,
         null,
         "8/10",
         null,
         null,
         null
        ],
        [
         1978.0,
         "LEARJET 35A",
         "Jet Aircraft",
         861462.0,
         575000.0,
         "San Diego, California, USA",
         "224",
         "N269JR",
         15877.0,
         11384.0,
         "White with Medium and Gold striping",
         null,
         "511",
         null
        ],
        [
         1981.0,
         "samiro",
         "samiroooo",
         131231.0,
         1231231.0,
         null,
         null,
         null,
         null,
         null,
         null,
         null,
         null,
         null
        ]
       ],
       "datasetInfos": [],
       "dbfsResultPath": null,
       "isJsonSchema": true,
       "metadata": {},
       "overflow": false,
       "plotOptions": {
        "customPlotOptions": {},
        "displayType": "table",
        "pivotAggregation": null,
        "pivotColumns": null,
        "xColumns": null,
        "yColumns": null
       },
       "removedWidgets": [],
       "schema": [
        {
         "metadata": "{}",
         "name": "Year",
         "type": "\"double\""
        },
        {
         "metadata": "{}",
         "name": "Make and Model",
         "type": "\"string\""
        },
        {
         "metadata": "{}",
         "name": "Type",
         "type": "\"string\""
        },
        {
         "metadata": "{}",
         "name": "Price (AUD)",
         "type": "\"double\""
        },
        {
         "metadata": "{}",
         "name": "Price (USD)",
         "type": "\"double\""
        },
        {
         "metadata": "{}",
         "name": "Location",
         "type": "\"string\""
        },
        {
         "metadata": "{}",
         "name": "Serial Number",
         "type": "\"string\""
        },
        {
         "metadata": "{}",
         "name": "Registration Number",
         "type": "\"string\""
        },
        {
         "metadata": "{}",
         "name": "Total Time",
         "type": "\"double\""
        },
        {
         "metadata": "{}",
         "name": "Total Landings",
         "type": "\"double\""
        },
        {
         "metadata": "{}",
         "name": "Exterior",
         "type": "\"string\""
        },
        {
         "metadata": "{}",
         "name": "Interior",
         "type": "\"string\""
        },
        {
         "metadata": "{}",
         "name": "Engine 1 Time",
         "type": "\"string\""
        },
        {
         "metadata": "{}",
         "name": "Engine 2 Time",
         "type": "\"string\""
        }
       ],
       "type": "table"
      }
     },
     "output_type": "display_data"
    }
   ],
   "source": [
    "from pyspark.sql import SparkSession\n",
    "from pyspark.sql.functions import to_date\n",
    "\n",
    "\n",
    "spark = SparkSession.builder.appName('samirospark').getOrCreate()\n",
    "#read 1 csv file\n",
    "\n",
    "#df = spark.read.csv(\"dns.csv\")\n",
    "\n",
    "options={\n",
    "\n",
    "    'nullValue':'',\n",
    "    'dateformat':'YYYY-MM-DD',\n",
    "    'nanValue':'',\n",
    "    'inferschema':'true',\n",
    "    'delimter': ',',\n",
    "    'header': 'true',\n",
    "    'charset': 'UTF-8'\n",
    "}\n",
    "\n",
    "df = spark.read.options(**options).csv(\"/FileStore/tables/output_file.csv\")\n",
    "display(df)\n"
   ]
  },
  {
   "cell_type": "markdown",
   "metadata": {
    "application/vnd.databricks.v1+cell": {
     "cellMetadata": {},
     "inputWidgets": {},
     "nuid": "9ce44860-d0f2-4426-be70-9af72ee90ee1",
     "showTitle": false,
     "title": ""
    }
   },
   "source": [
    "##All options for reading CSV"
   ]
  },
  {
   "cell_type": "code",
   "execution_count": 0,
   "metadata": {
    "application/vnd.databricks.v1+cell": {
     "cellMetadata": {
      "byteLimit": 2048000,
      "rowLimit": 10000
     },
     "inputWidgets": {},
     "nuid": "6b246dce-5590-4abb-b94f-37aed61173a3",
     "showTitle": false,
     "title": ""
    }
   },
   "outputs": [
    {
     "output_type": "display_data",
     "data": {
      "text/plain": [
       "\u001B[0;36m  File \u001B[0;32m<command-723770760427306>, line 23\u001B[0;36m\u001B[0m\n",
       "\u001B[0;31m    df = spark.read.options(**options).csv(\"\"path\"\")\u001B[0m\n",
       "\u001B[0m                                           ^\u001B[0m\n",
       "\u001B[0;31mSyntaxError\u001B[0m\u001B[0;31m:\u001B[0m invalid syntax. Perhaps you forgot a comma?\n"
      ]
     },
     "metadata": {
      "application/vnd.databricks.v1+output": {
       "addedWidgets": {},
       "arguments": {},
       "datasetInfos": [],
       "jupyterProps": {
        "ename": "SyntaxError",
        "evalue": "invalid syntax. Perhaps you forgot a comma? (command-723770760427306-971574094, line 23)"
       },
       "metadata": {
        "errorSummary": "<span class='ansi-red-fg'>SyntaxError</span>: invalid syntax. Perhaps you forgot a comma? (command-723770760427306-971574094, line 23)"
       },
       "removedWidgets": [],
       "sqlProps": null,
       "stackFrames": [
        "\u001B[0;36m  File \u001B[0;32m<command-723770760427306>, line 23\u001B[0;36m\u001B[0m\n\u001B[0;31m    df = spark.read.options(**options).csv(\"\"path\"\")\u001B[0m\n\u001B[0m                                           ^\u001B[0m\n\u001B[0;31mSyntaxError\u001B[0m\u001B[0;31m:\u001B[0m invalid syntax. Perhaps you forgot a comma?\n"
       ],
       "type": "baseError"
      }
     },
     "output_type": "display_data"
    }
   ],
   "source": [
    "\n",
    "from pyspark.sql import SparkSession\n",
    "\n",
    "\n",
    "spark = SparkSession.builder.appName('SparkApp').getOrCreate()\n",
    "\n",
    "\n",
    "\n",
    "\n",
    "options={\n",
    "   'delimiter': ',',\n",
    "   'header': 'true',\n",
    "   'charset': 'UTF-8',\n",
    "   'Inferschema':'true',  # auto schema \n",
    "   'nullValue':'',\n",
    "   'nanValue':''\n",
    "}\n",
    "\n",
    "\n",
    "\n",
    "\n",
    "#Read process\n",
    "df = spark.read.options(**options).csv(\"\"dns.csv\"\")\n",
    "df = spark.read.options(**options).csv(\"\"path\"\")\n",
    "\n",
    "\n",
    "\n",
    "\n",
    "#convert null to a word\n",
    "dfnew=df.na.fill('samirooo') #for first col\n",
    "DF = DF.na.fill({\"\"salary\"\": 0,\"\"date\"\": \"\"okok\"\"}) #to any col.\n",
    "\n",
    "\n",
    "\n",
    "#Convert date format\n",
    "from pyspark.sql.functions import to_date\n",
    "dfdate = df.withColumn('date', to_date(df['date'], 'yyyyMMdd'))\n",
    "\n",
    "\n",
    "\n",
    "Set new schema \n",
    "from pyspark.sql.types import StructType,StructField\n",
    "from pyspark.sql.types import ArrayType, DoubleType, BooleanType, StringType, IntegerType\n",
    "\n",
    "\n",
    "schema=StructType([\n",
    "\n",
    "\n",
    "   StructField(\"\"id\"\",IntegerType(),True),\n",
    "   StructField(\"\"name\"\",StringType(),True),\n",
    "   StructField(\"\"description\"\", StringType(),True),\n",
    "   StructField(\"\"date\"\", StringType(),True),\n",
    "   StructField(\"\"salary\"\", IntegerType(),True),\n",
    "])\n",
    "\n",
    "DF=spark.read.options(**options).schema(schema).csv('dns.csv')\n",
    "\n",
    "DF.printSchema()\n"
   ]
  }
 ],
 "metadata": {
  "application/vnd.databricks.v1+notebook": {
   "dashboards": [],
   "environmentMetadata": null,
   "language": "python",
   "notebookMetadata": {
    "pythonIndentUnit": 4
   },
   "notebookName": "Read CSV",
   "widgets": {}
  }
 },
 "nbformat": 4,
 "nbformat_minor": 0
}
